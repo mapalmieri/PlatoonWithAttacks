{
 "cells": [
  {
   "attachments": {},
   "cell_type": "markdown",
   "metadata": {
    "id": "0e01716c"
   },
   "source": [
    "<a target=\"_blank\" href=\"https://colab.research.google.com/github/mapalmieri/PlatoonWithAttacks/blob/main/Platoon_cosimulation_run.ipynb\">\n",
    "  <img src=\"https://colab.research.google.com/assets/colab-badge.svg\" alt=\"Open In Colab\" width=\"250\" \n",
    "     height=\"80\" />\n",
    "</a>"
   ]
  },
  {
   "cell_type": "code",
   "execution_count": null,
   "id": "adfd9e93",
   "metadata": {},
   "outputs": [],
   "source": [
    "# Import all dependencies\n",
    "import json\n",
    "import subprocess\n",
    "import pandas\n",
    "import matplotlib.pyplot as plt\n",
    "import numpy as np\n",
    "import time"
   ]
  },
  {
   "cell_type": "code",
   "execution_count": null,
   "id": "1fce3484",
   "metadata": {},
   "outputs": [],
   "source": [
    "%%bash\n",
    "git clone https://github.com/mapalmieri/PlatoonWithAttacks"
   ]
  },
  {
   "cell_type": "code",
   "execution_count": null,
   "id": "56b80a9a",
   "metadata": {},
   "outputs": [],
   "source": [
    "multi_model_json_file = \"PlatoonWithAttacks/Multi-models/standardplatooning/mm.json\"\n",
    "with open(multi_model_json_file, 'r') as file :\n",
    "    multi_model = file.read()\n",
    "\n",
    "print(json.dumps(json.loads(multi_model), indent=2))"
   ]
  },
  {
   "cell_type": "code",
   "execution_count": null,
   "id": "a5f01bc8",
   "metadata": {},
   "outputs": [],
   "source": [
    "%%capture\n",
    "%%bash\n",
    "cd PlatoonWithAttacks\n",
    "chmod u+x script_launch.sh\n",
    "./script_launch.sh"
   ]
  },
  {
   "cell_type": "code",
   "execution_count": null,
   "id": "329cd905",
   "metadata": {},
   "outputs": [],
   "source": [
    "data = pandas.read_csv(\"PlatoonWithAttacks/output.csv\")\n",
    "data"
   ]
  },
  {
   "cell_type": "code",
   "execution_count": null,
   "id": "528671ae",
   "metadata": {},
   "outputs": [],
   "source": [
    "plt.figure()\n",
    "plt.plot(data[\"time\"], data[\"{SimpleCar1}.SimpleCar1.x\"], label=\"Car 1 Position\")\n",
    "plt.plot(data[\"time\"], data[\"{SimpleCar2}.SimpleCar2.x\"], label=\"Car 2 Position\")\n",
    "plt.plot(data[\"time\"], data[\"{SimpleCar3}.SimpleCar3.x\"], label=\"Car 3 Position\")\n",
    "plt.plot(data[\"time\"], data[\"{LeadCar}.LeadCar.x\"], label=\"Lead Car Position\")\n",
    "plt.legend()\n",
    "plt.show()"
   ]
  },
  {
   "cell_type": "code",
   "execution_count": null,
   "metadata": {},
   "outputs": [],
   "source": [
    "multi_model_json_file = \"PlatoonWithAttacks/Multi-models/xprec_SC_inf/mm.json\"\n",
    "with open(multi_model_json_file, 'r') as file :\n",
    "    multi_model = file.read()\n",
    "\n",
    "print(json.dumps(json.loads(multi_model), indent=2))"
   ]
  },
  {
   "cell_type": "code",
   "execution_count": null,
   "metadata": {},
   "outputs": [],
   "source": [
    "%%capture\n",
    "%%bash\n",
    "cd PlatoonWithAttacks\n",
    "chmod u+x script_launch_attack.sh\n",
    "./script_launch_attack.sh"
   ]
  },
  {
   "cell_type": "code",
   "execution_count": null,
   "metadata": {},
   "outputs": [],
   "source": [
    "data = pandas.read_csv(\"PlatoonWithAttacks/output.csv\")\n",
    "plt.figure()\n",
    "plt.plot(data[\"time\"], data[\"{SimpleCar1}.SimpleCar1.x\"], label=\"Car 1 Position\")\n",
    "plt.plot(data[\"time\"], data[\"{SimpleCar2}.SimpleCar2.x\"], label=\"Car 2 Position\")\n",
    "plt.plot(data[\"time\"], data[\"{SimpleCar3}.SimpleCar3.x\"], label=\"Car 3 Position\")\n",
    "plt.plot(data[\"time\"], data[\"{LeadCar}.LeadCar.x\"], label=\"Lead Car Position\")\n",
    "plt.legend()\n",
    "plt.show()"
   ]
  }
 ],
 "metadata": {
  "kernelspec": {
   "display_name": "Python 3 (ipykernel)",
   "language": "python",
   "name": "python3"
  },
  "language_info": {
   "codemirror_mode": {
    "name": "ipython",
    "version": 3
   },
   "file_extension": ".py",
   "mimetype": "text/x-python",
   "name": "python",
   "nbconvert_exporter": "python",
   "pygments_lexer": "ipython3",
   "version": "3.8.10"
  }
 },
 "nbformat": 4,
 "nbformat_minor": 5
}
